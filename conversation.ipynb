{
 "cells": [
  {
   "cell_type": "code",
   "execution_count": 13,
   "metadata": {},
   "outputs": [],
   "source": [
    "from dotenv import load_dotenv, find_dotenv\n",
    "import os\n",
    "import bs4\n",
    "from langchain import hub\n",
    "from langchain_community.document_loaders import WebBaseLoader\n",
    "from langchain_community.vectorstores import FAISS\n",
    "from langchain_core.output_parsers import StrOutputParser\n",
    "from langchain_core.runnables import RunnablePassthrough\n",
    "from langchain_openai import OpenAIEmbeddings, ChatOpenAI\n",
    "from langchain_text_splitters import CharacterTextSplitter\n",
    "from data_indexing import DataIndexing\n",
    "from langchain_ai21 import AI21Embeddings, ChatAI21"
   ]
  },
  {
   "cell_type": "code",
   "execution_count": 14,
   "metadata": {},
   "outputs": [
    {
     "data": {
      "text/plain": [
       "True"
      ]
     },
     "execution_count": 14,
     "metadata": {},
     "output_type": "execute_result"
    }
   ],
   "source": [
    "load_dotenv(find_dotenv())"
   ]
  },
  {
   "cell_type": "code",
   "execution_count": 15,
   "metadata": {},
   "outputs": [],
   "source": [
    "chat = ChatAI21(model=\"j2-ultra\", temperature=0.1, max_tokens=100)"
   ]
  },
  {
   "cell_type": "code",
   "execution_count": 16,
   "metadata": {},
   "outputs": [
    {
     "data": {
      "text/plain": [
       "[HumanMessage(content='hi!'),\n",
       " AIMessage(content='whats up?'),\n",
       " HumanMessage(content='I am Nguyen Pham. I am a developer and I am joining an AI project.                               Can you tell me about your self?')]"
      ]
     },
     "execution_count": 16,
     "metadata": {},
     "output_type": "execute_result"
    }
   ],
   "source": [
    "from langchain.memory import ChatMessageHistory\n",
    "chat_history = ChatMessageHistory()\n",
    "chat_history.add_user_message(\"hi!\")\n",
    "chat_history.add_ai_message(\"whats up?\")\n",
    "chat_history.add_user_message(\"I am Nguyen Pham. I am a developer and I am joining an AI project. \\\n",
    "                              Can you tell me about your self?\")\n",
    "\n",
    "chat_history.messages"
   ]
  },
  {
   "cell_type": "markdown",
   "metadata": {},
   "source": [
    "#### Create prompt and chain"
   ]
  },
  {
   "cell_type": "code",
   "execution_count": 20,
   "metadata": {},
   "outputs": [],
   "source": [
    "from langchain_core.prompts import ChatPromptTemplate, MessagesPlaceholder\n",
    "prompt = ChatPromptTemplate.from_messages(\n",
    "    [\n",
    "        (\n",
    "            \"system\",\n",
    "            \"You are a helpful assistant. Answer all questions to the best of your ability.\",\n",
    "        ),\n",
    "        MessagesPlaceholder(variable_name=\"messages\"),\n",
    "        # (\"human\", \"{input}\")\n",
    "    ]\n",
    ")\n",
    "chain = prompt | chat"
   ]
  },
  {
   "cell_type": "code",
   "execution_count": 19,
   "metadata": {},
   "outputs": [
    {
     "data": {
      "text/plain": [
       "[HumanMessage(content='hi!'),\n",
       " AIMessage(content='whats up?'),\n",
       " HumanMessage(content='I am Nguyen Pham. I am a developer and I am joining an AI project.                               Can you tell me about your self?'),\n",
       " AIMessage(content='I am OpenAssistant, a chatbot that assists users with various tasks and responds to their questions. I am here to help and provide information to the best of my ability. How can I assist you today?')]"
      ]
     },
     "execution_count": 19,
     "metadata": {},
     "output_type": "execute_result"
    }
   ],
   "source": [
    "response = chain.invoke({\"messages\": chat_history.messages})\n",
    "chat_history.add_ai_message(response.content)\n",
    "chat_history.messages"
   ]
  },
  {
   "cell_type": "code",
   "execution_count": 22,
   "metadata": {},
   "outputs": [
    {
     "data": {
      "text/plain": [
       "\"As a developer joining an AI project, your job will likely involve working with a team of other developers and data scientists to design, build, and maintain the AI system. Your specific responsibilities may include:\\n\\n1. Designing and implementing algorithms and models: You will be responsible for developing and fine-tuning the AI system's algorithms and models, which may involve using machine learning techniques, natural language processing, and other AI technologies.\\n2. Data engineering: You will need to work with large datasets, clean and organize the data, and extract relevant information that will be used to train the AI system.\\n3. Performance optimization: You will need to optimize the performance of the AI system, including\""
      ]
     },
     "execution_count": 22,
     "metadata": {},
     "output_type": "execute_result"
    }
   ],
   "source": [
    "response = chain.invoke({\"messages\": chat_history.messages, \"input\": \"What is my job?\"})\n",
    "response.content"
   ]
  }
 ],
 "metadata": {
  "kernelspec": {
   "display_name": "langchain",
   "language": "python",
   "name": "python3"
  },
  "language_info": {
   "codemirror_mode": {
    "name": "ipython",
    "version": 3
   },
   "file_extension": ".py",
   "mimetype": "text/x-python",
   "name": "python",
   "nbconvert_exporter": "python",
   "pygments_lexer": "ipython3",
   "version": "3.11.7"
  }
 },
 "nbformat": 4,
 "nbformat_minor": 2
}
