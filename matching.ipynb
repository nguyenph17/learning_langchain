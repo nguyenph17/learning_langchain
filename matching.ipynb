{
 "cells": [
  {
   "cell_type": "markdown",
   "metadata": {},
   "source": [
    "### Import libraries"
   ]
  },
  {
   "cell_type": "code",
   "execution_count": 36,
   "metadata": {},
   "outputs": [],
   "source": [
    "from dotenv import load_dotenv, find_dotenv\n",
    "import os\n",
    "from langchain_community.vectorstores import FAISS\n",
    "from langchain_ai21 import AI21Embeddings, ChatAI21\n",
    "from langchain.docstore.document import Document\n",
    "from langchain_text_splitters import RecursiveCharacterTextSplitter\n"
   ]
  },
  {
   "cell_type": "code",
   "execution_count": 37,
   "metadata": {},
   "outputs": [
    {
     "data": {
      "text/plain": [
       "True"
      ]
     },
     "execution_count": 37,
     "metadata": {},
     "output_type": "execute_result"
    }
   ],
   "source": [
    "load_dotenv(find_dotenv())"
   ]
  },
  {
   "cell_type": "markdown",
   "metadata": {},
   "source": [
    "### Load documents"
   ]
  },
  {
   "cell_type": "code",
   "execution_count": 38,
   "metadata": {},
   "outputs": [],
   "source": [
    "job_description_data = [\n",
    "    \"\"\"Java developer roles will vary greatly depending on companies and job positions. Here are some typical roles and responsibilities of java developers:\n",
    "Contribute to all stages of software development lifecycle\n",
    "Design, implement and maintain Java-based applications that can be high-volume and low-latency\n",
    "Analyze user requirements to define business objectives\n",
    "Envisioning system features and functionality\n",
    "Define application objectives and functionality\n",
    "Ensure application designs conform with business goals\n",
    "Develop and test software\n",
    "Identify and resolve any technical issues arising\n",
    "Create detailed design documentation\n",
    "Propose changes to current Java infrastructure\n",
    "Develop technical designs for application development\n",
    "Develop multimedia applications\n",
    "Write well designed, testable code\n",
    "Conducting software analysis, programming, testing, and debugging\n",
    "Manage Java and Java EE application development\n",
    "Develop documentation to help users\n",
    "Transforming requirements into stipulations\n",
    "Prepare and produce releases of software components\n",
    "Support continuous improvement, investigating alternatives and technologies, and presenting for architectural review\"\"\",\n",
    "    \"\"\"Job brief\n",
    "We are looking for a Python Developer to join our engineering team and help us develop and maintain various software products.\n",
    "\n",
    "Python Developer responsibilities include writing and testing code, debugging programs and integrating applications with third-party web services. To be successful in this role, you should have experience using server-side logic and work well in a team.\n",
    "\n",
    "Ultimately, you’ll build highly responsive web applications that align with our business needs.\n",
    "\n",
    "Responsibilities\n",
    "Write effective, scalable code\n",
    "Develop back-end components to improve responsiveness and overall performance\n",
    "Integrate user-facing elements into applications\n",
    "Test and debug programs\n",
    "Improve functionality of existing systems\n",
    "Implement security and data protection solutions\n",
    "Assess and prioritize feature requests\n",
    "Coordinate with internal teams to understand user requirements and provide technical solutions\n",
    "Requirements and skills\n",
    "Work experience as a Python Developer\n",
    "Expertise in at least one popular Python framework (like Django, Flask or Pyramid)\n",
    "Knowledge of object-relational mapping (ORM)\n",
    "Familiarity with front-end technologies (like JavaScript and HTML5)\n",
    "Team spirit\n",
    "Good problem-solving skills\n",
    "BSc in Computer Science, Engineering or relevant field\n",
    "    \"\"\",\n",
    "    \"\"\"\n",
    "React.js Developer Responsibilities:\n",
    "Meeting with the development team to discuss user interface ideas and applications.\n",
    "Reviewing application requirements and interface designs.\n",
    "Identifying web-based user interactions.\n",
    "Developing and implementing highly responsive user interface components using react concepts.\n",
    "Writing application interface codes using JavaScript following react.js workflows.\n",
    "Troubleshooting interface software and debugging application codes.\n",
    "Developing and implementing front-end architecture to support user interface concepts.\n",
    "Monitoring and improving front-end performance.\n",
    "Documenting application changes and developing updates.\n",
    "React.js Developer Requirements:\n",
    "Bachelor’s degree in computer science, information technology, or a similar field.\n",
    "Previous experience working as a react.js developer.\n",
    "In-depth knowledge of JavaScript, CSS, HTML, and front-end languages.\n",
    "Knowledge of REACT tools including React.js, Webpack, Enzyme, Redux, and Flux.\n",
    "Experience with user interface design.\n",
    "Knowledge of performance testing frameworks including Mocha and Jest.\n",
    "Experience with browser-based debugging and performance testing software.\n",
    "Excellent troubleshooting skills.\n",
    "Good project management skills.\n",
    "    \"\"\"\n",
    "]"
   ]
  },
  {
   "cell_type": "code",
   "execution_count": 39,
   "metadata": {},
   "outputs": [],
   "source": [
    "job_categories = [\"Java\", \"Python\", \"React\"]"
   ]
  },
  {
   "cell_type": "code",
   "execution_count": 40,
   "metadata": {},
   "outputs": [
    {
     "data": {
      "text/plain": [
       "[Document(page_content='Java developer roles will vary greatly depending on companies and job positions. Here are some typical roles and responsibilities of java developers:\\nContribute to all stages of software development lifecycle\\nDesign, implement and maintain Java-based applications that can be high-volume and low-latency\\nAnalyze user requirements to define business objectives\\nEnvisioning system features and functionality\\nDefine application objectives and functionality\\nEnsure application designs conform with business goals\\nDevelop and test software\\nIdentify and resolve any technical issues arising\\nCreate detailed design documentation\\nPropose changes to current Java infrastructure\\nDevelop technical designs for application development\\nDevelop multimedia applications\\nWrite well designed, testable code\\nConducting software analysis, programming, testing, and debugging\\nManage Java and Java EE application development\\nDevelop documentation to help users\\nTransforming requirements into stipulations\\nPrepare and produce releases of software components\\nSupport continuous improvement, investigating alternatives and technologies, and presenting for architectural review', metadata={'category': 'Java'}),\n",
       " Document(page_content='Job brief\\nWe are looking for a Python Developer to join our engineering team and help us develop and maintain various software products.\\n\\nPython Developer responsibilities include writing and testing code, debugging programs and integrating applications with third-party web services. To be successful in this role, you should have experience using server-side logic and work well in a team.\\n\\nUltimately, you’ll build highly responsive web applications that align with our business needs.\\n\\nResponsibilities\\nWrite effective, scalable code\\nDevelop back-end components to improve responsiveness and overall performance\\nIntegrate user-facing elements into applications\\nTest and debug programs\\nImprove functionality of existing systems\\nImplement security and data protection solutions\\nAssess and prioritize feature requests\\nCoordinate with internal teams to understand user requirements and provide technical solutions\\nRequirements and skills\\nWork experience as a Python Developer\\nExpertise in at least one popular Python framework (like Django, Flask or Pyramid)\\nKnowledge of object-relational mapping (ORM)\\nFamiliarity with front-end technologies (like JavaScript and HTML5)\\nTeam spirit\\nGood problem-solving skills\\nBSc in Computer Science, Engineering or relevant field\\n    ', metadata={'category': 'Python'}),\n",
       " Document(page_content='\\nReact.js Developer Responsibilities:\\nMeeting with the development team to discuss user interface ideas and applications.\\nReviewing application requirements and interface designs.\\nIdentifying web-based user interactions.\\nDeveloping and implementing highly responsive user interface components using react concepts.\\nWriting application interface codes using JavaScript following react.js workflows.\\nTroubleshooting interface software and debugging application codes.\\nDeveloping and implementing front-end architecture to support user interface concepts.\\nMonitoring and improving front-end performance.\\nDocumenting application changes and developing updates.\\nReact.js Developer Requirements:\\nBachelor’s degree in computer science, information technology, or a similar field.\\nPrevious experience working as a react.js developer.\\nIn-depth knowledge of JavaScript, CSS, HTML, and front-end languages.\\nKnowledge of REACT tools including React.js, Webpack, Enzyme, Redux, and Flux.\\nExperience with user interface design.\\nKnowledge of performance testing frameworks including Mocha and Jest.\\nExperience with browser-based debugging and performance testing software.\\nExcellent troubleshooting skills.\\nGood project management skills.\\n    ', metadata={'category': 'React'})]"
      ]
     },
     "execution_count": 40,
     "metadata": {},
     "output_type": "execute_result"
    }
   ],
   "source": [
    "# Create Document from job description data\n",
    "job_description_docs = [Document(page_content=job_description, metadata={\"category\": job_category}) \n",
    "                        for job_description, job_category in zip (job_description_data, job_categories)\n",
    "                        ]\n",
    "\n",
    "job_description_docs"
   ]
  },
  {
   "cell_type": "code",
   "execution_count": 41,
   "metadata": {},
   "outputs": [
    {
     "data": {
      "text/plain": [
       "[Document(page_content='Java developer roles will vary greatly depending on companies and job positions. Here are some typical roles and responsibilities of java developers:\\nContribute to all stages of software development lifecycle\\nDesign, implement and maintain Java-based applications that can be high-volume and low-latency\\nAnalyze user requirements to define business objectives\\nEnvisioning system features and functionality\\nDefine application objectives and functionality\\nEnsure application designs conform with business goals\\nDevelop and test software\\nIdentify and resolve any technical issues arising\\nCreate detailed design documentation\\nPropose changes to current Java infrastructure\\nDevelop technical designs for application development\\nDevelop multimedia applications\\nWrite well designed, testable code\\nConducting software analysis, programming, testing, and debugging\\nManage Java and Java EE application development\\nDevelop documentation to help users\\nTransforming requirements into stipulations', metadata={'category': 'Java'}),\n",
       " Document(page_content='Conducting software analysis, programming, testing, and debugging\\nManage Java and Java EE application development\\nDevelop documentation to help users\\nTransforming requirements into stipulations\\nPrepare and produce releases of software components\\nSupport continuous improvement, investigating alternatives and technologies, and presenting for architectural review', metadata={'category': 'Java'}),\n",
       " Document(page_content='Job brief\\nWe are looking for a Python Developer to join our engineering team and help us develop and maintain various software products.\\n\\nPython Developer responsibilities include writing and testing code, debugging programs and integrating applications with third-party web services. To be successful in this role, you should have experience using server-side logic and work well in a team.\\n\\nUltimately, you’ll build highly responsive web applications that align with our business needs.', metadata={'category': 'Python'}),\n",
       " Document(page_content='Ultimately, you’ll build highly responsive web applications that align with our business needs.\\n\\nResponsibilities\\nWrite effective, scalable code\\nDevelop back-end components to improve responsiveness and overall performance\\nIntegrate user-facing elements into applications\\nTest and debug programs\\nImprove functionality of existing systems\\nImplement security and data protection solutions\\nAssess and prioritize feature requests\\nCoordinate with internal teams to understand user requirements and provide technical solutions\\nRequirements and skills\\nWork experience as a Python Developer\\nExpertise in at least one popular Python framework (like Django, Flask or Pyramid)\\nKnowledge of object-relational mapping (ORM)\\nFamiliarity with front-end technologies (like JavaScript and HTML5)\\nTeam spirit\\nGood problem-solving skills\\nBSc in Computer Science, Engineering or relevant field', metadata={'category': 'Python'}),\n",
       " Document(page_content='React.js Developer Responsibilities:\\nMeeting with the development team to discuss user interface ideas and applications.\\nReviewing application requirements and interface designs.\\nIdentifying web-based user interactions.\\nDeveloping and implementing highly responsive user interface components using react concepts.\\nWriting application interface codes using JavaScript following react.js workflows.\\nTroubleshooting interface software and debugging application codes.\\nDeveloping and implementing front-end architecture to support user interface concepts.\\nMonitoring and improving front-end performance.\\nDocumenting application changes and developing updates.\\nReact.js Developer Requirements:\\nBachelor’s degree in computer science, information technology, or a similar field.\\nPrevious experience working as a react.js developer.\\nIn-depth knowledge of JavaScript, CSS, HTML, and front-end languages.\\nKnowledge of REACT tools including React.js, Webpack, Enzyme, Redux, and Flux.', metadata={'category': 'React'}),\n",
       " Document(page_content='In-depth knowledge of JavaScript, CSS, HTML, and front-end languages.\\nKnowledge of REACT tools including React.js, Webpack, Enzyme, Redux, and Flux.\\nExperience with user interface design.\\nKnowledge of performance testing frameworks including Mocha and Jest.\\nExperience with browser-based debugging and performance testing software.\\nExcellent troubleshooting skills.\\nGood project management skills.', metadata={'category': 'React'})]"
      ]
     },
     "execution_count": 41,
     "metadata": {},
     "output_type": "execute_result"
    }
   ],
   "source": [
    "# split documents into chunks\n",
    "text_splitter = RecursiveCharacterTextSplitter(chunk_size=1000, chunk_overlap=200)\n",
    "docs = text_splitter.split_documents(job_description_docs)\n",
    "docs"
   ]
  },
  {
   "cell_type": "markdown",
   "metadata": {},
   "source": [
    "### Create embedding model"
   ]
  },
  {
   "cell_type": "code",
   "execution_count": 42,
   "metadata": {},
   "outputs": [],
   "source": [
    "embeddings = AI21Embeddings()"
   ]
  },
  {
   "cell_type": "markdown",
   "metadata": {},
   "source": [
    "### Create vector store"
   ]
  },
  {
   "cell_type": "code",
   "execution_count": 43,
   "metadata": {},
   "outputs": [
    {
     "data": {
      "text/plain": [
       "6"
      ]
     },
     "execution_count": 43,
     "metadata": {},
     "output_type": "execute_result"
    }
   ],
   "source": [
    "VECTOR_STORE_PATH = \"data/job_description_db\"\n",
    "try:\n",
    "    # try to load the vector store if it exists\n",
    "    vector_store = FAISS.load_local(VECTOR_STORE_PATH)\n",
    "except:\n",
    "    # if it doesn't exist, create a new vector store\n",
    "    vector_store = FAISS.from_documents(docs, embeddings)\n",
    "    # save the vector store to disk\n",
    "    vector_store.save_local(VECTOR_STORE_PATH)\n",
    "\n",
    "# total of vectors in the vector store\n",
    "vector_store.index.ntotal"
   ]
  },
  {
   "cell_type": "markdown",
   "metadata": {},
   "source": [
    "### Retrieving relevant documents"
   ]
  },
  {
   "cell_type": "code",
   "execution_count": 47,
   "metadata": {},
   "outputs": [
    {
     "data": {
      "text/plain": [
       "[Document(page_content='Ultimately, you’ll build highly responsive web applications that align with our business needs.\\n\\nResponsibilities\\nWrite effective, scalable code\\nDevelop back-end components to improve responsiveness and overall performance\\nIntegrate user-facing elements into applications\\nTest and debug programs\\nImprove functionality of existing systems\\nImplement security and data protection solutions\\nAssess and prioritize feature requests\\nCoordinate with internal teams to understand user requirements and provide technical solutions\\nRequirements and skills\\nWork experience as a Python Developer\\nExpertise in at least one popular Python framework (like Django, Flask or Pyramid)\\nKnowledge of object-relational mapping (ORM)\\nFamiliarity with front-end technologies (like JavaScript and HTML5)\\nTeam spirit\\nGood problem-solving skills\\nBSc in Computer Science, Engineering or relevant field', metadata={'category': 'Python'}),\n",
       " Document(page_content='In-depth knowledge of JavaScript, CSS, HTML, and front-end languages.\\nKnowledge of REACT tools including React.js, Webpack, Enzyme, Redux, and Flux.\\nExperience with user interface design.\\nKnowledge of performance testing frameworks including Mocha and Jest.\\nExperience with browser-based debugging and performance testing software.\\nExcellent troubleshooting skills.\\nGood project management skills.', metadata={'category': 'React'}),\n",
       " Document(page_content='Job brief\\nWe are looking for a Python Developer to join our engineering team and help us develop and maintain various software products.\\n\\nPython Developer responsibilities include writing and testing code, debugging programs and integrating applications with third-party web services. To be successful in this role, you should have experience using server-side logic and work well in a team.\\n\\nUltimately, you’ll build highly responsive web applications that align with our business needs.', metadata={'category': 'Python'})]"
      ]
     },
     "execution_count": 47,
     "metadata": {},
     "output_type": "execute_result"
    }
   ],
   "source": [
    "query = \"5 years of experience as role of Python backend developer. My tech stack includes FastAPI, Flask. I am looking for a new job.\"\n",
    "retriever = vector_store.as_retriever(search_type='similarity', search_kwargs={'k': 3})\n",
    "retrived_docs = retriever.invoke(query)\n",
    "retrived_docs"
   ]
  },
  {
   "cell_type": "code",
   "execution_count": 49,
   "metadata": {},
   "outputs": [
    {
     "data": {
      "text/plain": [
       "{'category': 'Python'}"
      ]
     },
     "execution_count": 49,
     "metadata": {},
     "output_type": "execute_result"
    }
   ],
   "source": [
    "retrived_docs[0].metadata    "
   ]
  },
  {
   "cell_type": "code",
   "execution_count": 52,
   "metadata": {},
   "outputs": [
    {
     "data": {
      "text/plain": [
       "[(Document(page_content='Ultimately, you’ll build highly responsive web applications that align with our business needs.\\n\\nResponsibilities\\nWrite effective, scalable code\\nDevelop back-end components to improve responsiveness and overall performance\\nIntegrate user-facing elements into applications\\nTest and debug programs\\nImprove functionality of existing systems\\nImplement security and data protection solutions\\nAssess and prioritize feature requests\\nCoordinate with internal teams to understand user requirements and provide technical solutions\\nRequirements and skills\\nWork experience as a Python Developer\\nExpertise in at least one popular Python framework (like Django, Flask or Pyramid)\\nKnowledge of object-relational mapping (ORM)\\nFamiliarity with front-end technologies (like JavaScript and HTML5)\\nTeam spirit\\nGood problem-solving skills\\nBSc in Computer Science, Engineering or relevant field', metadata={'category': 'Python'}),\n",
       "  0.30979526),\n",
       " (Document(page_content='In-depth knowledge of JavaScript, CSS, HTML, and front-end languages.\\nKnowledge of REACT tools including React.js, Webpack, Enzyme, Redux, and Flux.\\nExperience with user interface design.\\nKnowledge of performance testing frameworks including Mocha and Jest.\\nExperience with browser-based debugging and performance testing software.\\nExcellent troubleshooting skills.\\nGood project management skills.', metadata={'category': 'React'}),\n",
       "  0.33711076),\n",
       " (Document(page_content='Job brief\\nWe are looking for a Python Developer to join our engineering team and help us develop and maintain various software products.\\n\\nPython Developer responsibilities include writing and testing code, debugging programs and integrating applications with third-party web services. To be successful in this role, you should have experience using server-side logic and work well in a team.\\n\\nUltimately, you’ll build highly responsive web applications that align with our business needs.', metadata={'category': 'Python'}),\n",
       "  0.35098612)]"
      ]
     },
     "execution_count": 52,
     "metadata": {},
     "output_type": "execute_result"
    }
   ],
   "source": [
    "vector_store.similarity_search_with_score(query, k=3)"
   ]
  },
  {
   "cell_type": "code",
   "execution_count": null,
   "metadata": {},
   "outputs": [],
   "source": []
  }
 ],
 "metadata": {
  "kernelspec": {
   "display_name": "langchain",
   "language": "python",
   "name": "python3"
  },
  "language_info": {
   "codemirror_mode": {
    "name": "ipython",
    "version": 3
   },
   "file_extension": ".py",
   "mimetype": "text/x-python",
   "name": "python",
   "nbconvert_exporter": "python",
   "pygments_lexer": "ipython3",
   "version": "3.11.7"
  }
 },
 "nbformat": 4,
 "nbformat_minor": 2
}
